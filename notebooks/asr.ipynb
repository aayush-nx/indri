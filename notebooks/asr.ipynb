{
 "cells": [
  {
   "cell_type": "code",
   "execution_count": null,
   "id": "4102aca0-1e2b-4d64-9d45-d32acd0b39e9",
   "metadata": {},
   "outputs": [],
   "source": [
    "import os\n",
    "import torch\n",
    "import math\n",
    "import numpy as np\n",
    "from pathlib import Path\n",
    "from IPython.display import Audio\n",
    "import matplotlib.pyplot as plt\n",
    "from huggingface_hub import snapshot_download\n",
    "\n",
    "from audiotoken import AudioToken, Tokenizers\n",
    "\n",
    "from tts.infer import AudioSemantic as VanillaAudioSemantic, generate\n",
    "from tts.train import DataLoader\n",
    "from omni.hfload import convert_to_hf\n",
    "from common import Config as cfg\n",
    "from common import ACOUSTIC, SEMANTIC, TEXT, ctx, cache_dir, device"
   ]
  },
  {
   "cell_type": "code",
   "execution_count": null,
   "id": "a8f2d5b8-2b86-4243-80cc-79f0995b00ef",
   "metadata": {
    "scrolled": true
   },
   "outputs": [],
   "source": [
    "model_dir = f'{cache_dir}/models/tts_en_xl_125m/'\n",
    "semantic_text_model = convert_to_hf(path=f'{model_dir}/semantic_text/gpt_last.pt', device=device)\n",
    "ttslib = VanillaAudioSemantic()"
   ]
  },
  {
   "cell_type": "code",
   "execution_count": null,
   "id": "d5413cb9-f5b0-4f75-8b54-c3a8b4413443",
   "metadata": {},
   "outputs": [],
   "source": [
    "def replace_consecutive(arr):\n",
    "    mask = np.concatenate(([True], arr[1:] != arr[:-1]))\n",
    "    return arr[mask]"
   ]
  },
  {
   "cell_type": "code",
   "execution_count": null,
   "id": "388ed6c8-56d9-4511-a454-72df61f57d7c",
   "metadata": {},
   "outputs": [],
   "source": [
    "toks = np.load('prompts/jenny_short/tokens.npz')\n",
    "semantic_tokens = toks['SEMANTIC']"
   ]
  },
  {
   "cell_type": "code",
   "execution_count": null,
   "id": "ae7f487b-3d9f-4b1d-9c52-2f16fc03ef1f",
   "metadata": {},
   "outputs": [],
   "source": [
    "semantic_tokens.shape"
   ]
  },
  {
   "cell_type": "code",
   "execution_count": null,
   "id": "8a3003a5-ebd3-4ccf-99c1-a9a207755f54",
   "metadata": {},
   "outputs": [],
   "source": [
    "semantic_tokenizer = AudioToken(Tokenizers.semantic_s, device='cuda:0')"
   ]
  },
  {
   "cell_type": "code",
   "execution_count": null,
   "id": "8b3563d7-2f8f-4dfd-b50d-2aceabcdf1a6",
   "metadata": {},
   "outputs": [],
   "source": [
    "from functools import partial\n",
    "from transformers import Wav2Vec2FeatureExtractor\n",
    "\n",
    "def hubert_processor(audio, processor):\n",
    "    return processor(\n",
    "        audio,\n",
    "        sampling_rate=16_000,\n",
    "        return_tensors='pt'\n",
    "    ).input_values[0]\n",
    "\n",
    "\n",
    "processor = Wav2Vec2FeatureExtractor.from_pretrained('voidful/mhubert-base')\n",
    "transform_func = partial(hubert_processor, processor=processor)"
   ]
  },
  {
   "cell_type": "code",
   "execution_count": null,
   "id": "b4a489ac-8cee-4511-843b-ba75bbdd4c1c",
   "metadata": {},
   "outputs": [],
   "source": [
    "from tts.utils import read_audio_file"
   ]
  },
  {
   "cell_type": "code",
   "execution_count": null,
   "id": "4f9c3b62-0e2a-4d28-ac16-de67771f2d01",
   "metadata": {},
   "outputs": [],
   "source": [
    "aud= read_audio_file('prompts/jenny_short/audio.wav', 16000)"
   ]
  },
  {
   "cell_type": "code",
   "execution_count": null,
   "id": "9fa4a656-e5d3-43e3-91a2-4196c5d7d3bf",
   "metadata": {},
   "outputs": [],
   "source": [
    "aud = transform_func(aud)"
   ]
  },
  {
   "cell_type": "code",
   "execution_count": null,
   "id": "d72cdd92-da6d-4170-8413-652d7dbcb6bb",
   "metadata": {},
   "outputs": [],
   "source": [
    "aud.shape"
   ]
  },
  {
   "cell_type": "code",
   "execution_count": null,
   "id": "cd919d67-35b0-4141-bb0b-550c68cb280c",
   "metadata": {},
   "outputs": [],
   "source": [
    "def replace_consecutive(arr):\n",
    "    mask = np.concatenate(([True], arr[1:] != arr[:-1]))\n",
    "    return arr[mask]"
   ]
  },
  {
   "cell_type": "code",
   "execution_count": null,
   "id": "2cb121ec-8e21-4e14-9d07-fc434b980313",
   "metadata": {
    "scrolled": true
   },
   "outputs": [],
   "source": [
    "source_tokens = semantic_tokenizer.encode(aud)\n",
    "source_tokens = source_tokens.cpu().numpy()[0][0]\n",
    "source_tokens = replace_consecutive(source_tokens)"
   ]
  },
  {
   "cell_type": "code",
   "execution_count": null,
   "id": "ddfc2657-4296-4d1d-aee6-dc6b4eafcd16",
   "metadata": {},
   "outputs": [],
   "source": [
    "source_tokens.shape"
   ]
  },
  {
   "cell_type": "code",
   "execution_count": null,
   "id": "34c1c5e6-2000-4c2b-be34-1a5b3462080a",
   "metadata": {
    "scrolled": true
   },
   "outputs": [],
   "source": [
    "txt_toks = generate(\n",
    "    model=semantic_text_model,\n",
    "    source_tokens=semantic_tokens,\n",
    "    source=SEMANTIC,\n",
    "    target=TEXT,\n",
    "    max_length=1024,\n",
    "    max_source_tokens=768,\n",
    "    temperature=0.8,\n",
    "    top_k=100\n",
    ")"
   ]
  },
  {
   "cell_type": "code",
   "execution_count": null,
   "id": "ba09f578-809f-44e1-939d-a91df952c2d9",
   "metadata": {},
   "outputs": [],
   "source": [
    "txt_toks"
   ]
  },
  {
   "cell_type": "code",
   "execution_count": null,
   "id": "5844d964-a0e7-4c5a-adde-0cfc1bf61252",
   "metadata": {},
   "outputs": [],
   "source": [
    "from datalib.tokenlib import get_tokenizer"
   ]
  },
  {
   "cell_type": "code",
   "execution_count": null,
   "id": "3ec8f9f1-4ed9-4136-bf68-4c574fb9a125",
   "metadata": {},
   "outputs": [],
   "source": [
    "decoder = get_tokenizer(TEXT, 'cpu')"
   ]
  },
  {
   "cell_type": "code",
   "execution_count": null,
   "id": "8ac8750b-fbf4-48be-843a-4b4bacecaf71",
   "metadata": {},
   "outputs": [],
   "source": [
    "decoder.decode(txt_toks - cfg.OFFSET[TEXT])"
   ]
  },
  {
   "cell_type": "code",
   "execution_count": null,
   "id": "3f00ee86-4560-4756-971a-17c0dd4d2ba9",
   "metadata": {},
   "outputs": [],
   "source": []
  }
 ],
 "metadata": {
  "kernelspec": {
   "display_name": "Python 3 (ipykernel)",
   "language": "python",
   "name": "python3"
  },
  "language_info": {
   "codemirror_mode": {
    "name": "ipython",
    "version": 3
   },
   "file_extension": ".py",
   "mimetype": "text/x-python",
   "name": "python",
   "nbconvert_exporter": "python",
   "pygments_lexer": "ipython3",
   "version": "3.11.5"
  }
 },
 "nbformat": 4,
 "nbformat_minor": 5
}
