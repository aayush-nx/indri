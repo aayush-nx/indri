{
 "cells": [
  {
   "cell_type": "code",
   "execution_count": null,
   "id": "edff8fdc-7a2d-4092-944f-eb7f3b074263",
   "metadata": {},
   "outputs": [],
   "source": [
    "import json\n",
    "import torch\n",
    "import random\n",
    "import numpy as np\n",
    "from pathlib import Path\n",
    "from audiotoken import AudioToken, Tokenizers\n",
    "from IPython.display import Audio, display"
   ]
  },
  {
   "cell_type": "code",
   "execution_count": null,
   "id": "b9345636-bdcf-4826-bf54-cbdb7d3e0b6f",
   "metadata": {},
   "outputs": [],
   "source": [
    "aco_encoder = AudioToken(tokenizer = Tokenizers.acoustic, device = 'cuda:1')"
   ]
  },
  {
   "cell_type": "code",
   "execution_count": null,
   "id": "293de3a4-40a9-43a2-b91b-3ff117730c58",
   "metadata": {
    "scrolled": true
   },
   "outputs": [],
   "source": [
    "root_dir = '/home/meraki/.cache/indri/youtube_en_spongebob_raw/'\n",
    "data = []\n",
    "with open(Path(root_dir, 'annotation/metadata.jsonl')) as fp:\n",
    "    for ln in fp.readlines():\n",
    "        if not ln:\n",
    "            continue\n",
    "        data.append(json.loads(ln))\n",
    "\n",
    "print(len(data))"
   ]
  },
  {
   "cell_type": "code",
   "execution_count": null,
   "id": "67d8f88d-830b-42e7-8b14-dfbb8a66791d",
   "metadata": {
    "scrolled": true
   },
   "outputs": [],
   "source": [
    "k = random.choice(range(len(data)))\n",
    "# k = 167156\n",
    "\n",
    "actual_audio = Path(root_dir, data[k]['audio_path'])\n",
    "# actual_audio = np.load(actual_audio)\n",
    "print(k, len(data[k]['raw_text']), data[k]['raw_text'])\n",
    "display(Audio(actual_audio, rate=16000))\n",
    "\n",
    "reconstructed_audio = Path(root_dir, data[k]['acoustic_tokens'])\n",
    "toks = np.load(reconstructed_audio)[:2]\n",
    "reconstructed_audio = aco_encoder.decode(torch.from_numpy(toks).unsqueeze(0))\n",
    "display(Audio(reconstructed_audio, rate=24000))"
   ]
  },
  {
   "cell_type": "code",
   "execution_count": null,
   "id": "4a755ab2-54de-4c51-b5cf-c44af11eedeb",
   "metadata": {},
   "outputs": [],
   "source": [
    "toks.shape"
   ]
  },
  {
   "cell_type": "code",
   "execution_count": null,
   "id": "02cfd3e5-02f7-43ba-81d4-039bc3f27dc9",
   "metadata": {},
   "outputs": [],
   "source": [
    "data[k]"
   ]
  },
  {
   "cell_type": "code",
   "execution_count": null,
   "id": "e5f492c0-f68d-4ef0-a361-3b52589bd220",
   "metadata": {},
   "outputs": [],
   "source": [
    "toks.shape"
   ]
  },
  {
   "cell_type": "code",
   "execution_count": null,
   "id": "23956f3e-9585-4ea4-8227-c859838190df",
   "metadata": {},
   "outputs": [],
   "source": [
    "14202"
   ]
  },
  {
   "cell_type": "code",
   "execution_count": null,
   "id": "3aa6cfb5-5598-4ceb-b26b-47951f2a5dac",
   "metadata": {},
   "outputs": [],
   "source": [
    "167156, 45024"
   ]
  },
  {
   "cell_type": "code",
   "execution_count": null,
   "id": "6d0be649-1104-4761-bc81-bf467850e6b4",
   "metadata": {},
   "outputs": [],
   "source": [
    "import torch\n",
    "import torchaudio\n",
    "from encodec import EncodecModel\n",
    "from encodec.utils import convert_audio"
   ]
  },
  {
   "cell_type": "code",
   "execution_count": null,
   "id": "ed5a9c42-7e6f-4dd8-a9be-a121248fcecd",
   "metadata": {},
   "outputs": [],
   "source": [
    "model = EncodecModel.encodec_model_24khz()\n",
    "model.set_target_bandwidth(1.5)"
   ]
  },
  {
   "cell_type": "code",
   "execution_count": null,
   "id": "f9bbbbbd-d735-4b1f-8543-98b76a943851",
   "metadata": {},
   "outputs": [],
   "source": [
    "from contextlib import nullcontext\n",
    "ctx = nullcontext()\n",
    "if torch.cuda.is_available():\n",
    "    ctx = torch.amp.autocast(device_type='cuda', dtype=torch.bfloat16) # type: ignore"
   ]
  },
  {
   "cell_type": "code",
   "execution_count": null,
   "id": "bc39395d-eb5c-4b2f-9834-26e69c028f36",
   "metadata": {},
   "outputs": [],
   "source": [
    "actual_audio = Path('/home/meraki/Downloads/output.wav')"
   ]
  },
  {
   "cell_type": "code",
   "execution_count": null,
   "id": "7ec23607-4127-43ef-8cad-17d10ae632ae",
   "metadata": {
    "scrolled": true
   },
   "outputs": [],
   "source": [
    "wav, sr = torchaudio.load(actual_audio)\n",
    "wav = convert_audio(wav, sr, model.sample_rate, model.channels)\n",
    "wav = wav.unsqueeze(0)\n",
    "print(sr, wav.shape)\n",
    "\n",
    "# with ctx:\n",
    "with torch.no_grad():\n",
    "    encoded_frames = model.encode(wav)\n",
    "\n",
    "codes = torch.cat([encoded[0] for encoded in encoded_frames], dim=-1)  # [B, n_q, T]\n",
    "print(codes.shape)\n",
    "\n",
    "with torch.no_grad():\n",
    "    reconstructed_wav = model.decode(encoded_frames)\n",
    "\n",
    "display(Audio(wav[0], rate=24000))\n",
    "display(Audio(reconstructed_wav[0], rate=24000))"
   ]
  },
  {
   "cell_type": "code",
   "execution_count": null,
   "id": "b41f185f-6b4e-4b2c-97fa-743dee4d3a60",
   "metadata": {},
   "outputs": [],
   "source": [
    "import bark\n",
    "import numpy as np"
   ]
  },
  {
   "cell_type": "code",
   "execution_count": null,
   "id": "d167a031-bc03-4733-95de-2f801e34181f",
   "metadata": {},
   "outputs": [],
   "source": [
    "def _deserialize_acoustic_tokens(tokens):\n",
    "    cb1 = tokens[::2][0]\n",
    "    cb2 = tokens[1::2][0]\n",
    "    acoustic_tokens = np.stack([cb1, cb2])\n",
    "\n",
    "    return acoustic_tokens\n",
    "\n",
    "_ = bark.generation.load_model(\n",
    "   use_gpu=True,\n",
    "   model_type=\"fine\"\n",
    ")"
   ]
  },
  {
   "cell_type": "code",
   "execution_count": null,
   "id": "70884431-ebb7-4161-8fca-9d15360c7899",
   "metadata": {},
   "outputs": [],
   "source": [
    "def nar_bark(tokens_02):\n",
    "    tokens_02 = _deserialize_acoustic_tokens(tokens_02)\n",
    "\n",
    "    print(type(tokens_02), tokens_02.shape)\n",
    "    with torch.no_grad():\n",
    "        tokens = bark.api.generate_fine(\n",
    "            x_coarse_gen=tokens_02[0:2, :],\n",
    "            silent=False\n",
    "        )\n",
    "    tokens = np.expand_dims(tokens, axis=0)\n",
    "    tokens = torch.from_numpy(tokens)\n",
    "\n",
    "    return tokens"
   ]
  },
  {
   "cell_type": "code",
   "execution_count": null,
   "id": "f54229f8-664b-4fbb-9ba1-f30292c0063a",
   "metadata": {},
   "outputs": [],
   "source": [
    "codes[0].shape"
   ]
  },
  {
   "cell_type": "code",
   "execution_count": null,
   "id": "8d28cdd4-979b-46ee-9358-33f109b3aa5d",
   "metadata": {},
   "outputs": [],
   "source": [
    "bark_gen = nar_bark(codes[0])"
   ]
  },
  {
   "cell_type": "code",
   "execution_count": null,
   "id": "475be3e4-ced8-4b33-99c9-8b8788e4bf4f",
   "metadata": {},
   "outputs": [],
   "source": [
    "type(bark_gen)"
   ]
  },
  {
   "cell_type": "code",
   "execution_count": null,
   "id": "391fb217-2ad7-419a-b4ef-a5a82e95c424",
   "metadata": {},
   "outputs": [],
   "source": [
    "aco_encoder.num_codebooks"
   ]
  },
  {
   "cell_type": "code",
   "execution_count": null,
   "id": "679c982f-5c3b-43fd-8d2e-5c1ab32f5a7f",
   "metadata": {},
   "outputs": [],
   "source": [
    "bark_aud = aco_encoder.decode(bark_gen)\n",
    "display(Audio(bark_aud, rate=24000))"
   ]
  },
  {
   "cell_type": "code",
   "execution_count": null,
   "id": "ee36a8b5-3b94-4913-8640-20d9552da667",
   "metadata": {},
   "outputs": [],
   "source": [
    "bark_aud = aco_encoder.decode(bark_gen)\n",
    "display(Audio(bark_aud, rate=24000))"
   ]
  },
  {
   "cell_type": "code",
   "execution_count": null,
   "id": "9a6144d3-b11f-4a03-9db1-fc9cf6c95c1a",
   "metadata": {},
   "outputs": [],
   "source": []
  },
  {
   "cell_type": "code",
   "execution_count": null,
   "id": "453eef02-0193-435f-bf4f-5decfec1e10d",
   "metadata": {
    "scrolled": true
   },
   "outputs": [],
   "source": [
    "encoded_frames"
   ]
  },
  {
   "cell_type": "code",
   "execution_count": null,
   "id": "573a1afc-ce41-4f42-8fff-636cdf2d9b0d",
   "metadata": {},
   "outputs": [],
   "source": [
    "wav, sr = torchaudio.load(actual_audio)\n",
    "wav = convert_audio(wav, sr, model.sample_rate, model.channels)\n",
    "wav = wav.unsqueeze(0)\n",
    "\n",
    "with \n",
    "with torch.no_grad():\n",
    "    encoded_frames = model.encode(wav)\n",
    "\n",
    "codes = torch.cat([encoded[0] for encoded in encoded_frames], dim=-1)  # [B, n_q, T]\n",
    "\n",
    "with torch.no_grad():\n",
    "    # out = model.quantizer.decode(codes)#.transpose(0, 1)\n",
    "    # reconstructed_wav = model.decoder(out)\n",
    "    reconstructed_wav = model.decode([(torch.from_numpy(toks).unsqueeze(0).to(torch.long), None)])\n",
    "\n",
    "display(Audio(reconstructed_wav[0], rate=24000))"
   ]
  }
 ],
 "metadata": {
  "kernelspec": {
   "display_name": "Python 3 (ipykernel)",
   "language": "python",
   "name": "python3"
  },
  "language_info": {
   "codemirror_mode": {
    "name": "ipython",
    "version": 3
   },
   "file_extension": ".py",
   "mimetype": "text/x-python",
   "name": "python",
   "nbconvert_exporter": "python",
   "pygments_lexer": "ipython3",
   "version": "3.11.5"
  }
 },
 "nbformat": 4,
 "nbformat_minor": 5
}
