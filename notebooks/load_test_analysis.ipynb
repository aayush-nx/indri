{
 "cells": [
  {
   "cell_type": "code",
   "execution_count": null,
   "id": "484f666f-d2aa-4f66-8dca-de0d2cf7acda",
   "metadata": {},
   "outputs": [],
   "source": [
    "!pip install -q matplotlib"
   ]
  },
  {
   "cell_type": "code",
   "execution_count": null,
   "id": "e9b84a51-d197-483e-beae-285abad57545",
   "metadata": {},
   "outputs": [],
   "source": [
    "import torchaudio\n",
    "import pandas as pd\n",
    "from pathlib import Path\n",
    "import matplotlib.pyplot as plt\n",
    "\n",
    "from IPython.display import display, Audio"
   ]
  },
  {
   "cell_type": "code",
   "execution_count": null,
   "id": "ee9c32c7-a03e-4a8b-a393-a23f10be7ecd",
   "metadata": {},
   "outputs": [],
   "source": [
    "root_dir = Path('debug/load_test_results_20241030_072908/')"
   ]
  },
  {
   "cell_type": "code",
   "execution_count": null,
   "id": "ccbb14bd-a95a-4e4d-bb77-a2eaa06e92b2",
   "metadata": {},
   "outputs": [],
   "source": [
    "detail_df = pd.read_csv(Path(root_dir, 'detailed_results.csv'))\n",
    "time_df = pd.read_csv(Path(root_dir, 'time_series_metrics.csv'))"
   ]
  },
  {
   "cell_type": "markdown",
   "id": "55e54c96-a01a-499b-bbec-b6956438c4ff",
   "metadata": {},
   "source": [
    "Debugging audio"
   ]
  },
  {
   "cell_type": "code",
   "execution_count": null,
   "id": "83ae9d3c-de8c-40a5-9b2d-afeb8adf61f0",
   "metadata": {},
   "outputs": [],
   "source": [
    "sample = detail_df.sample(n=1)\n",
    "audio_path = Path(root_dir, 'audio', f'{sample.iloc[0].request_id}.wav')\n",
    "a, sr = torchaudio.load(audio_path)\n",
    "print(f'k: {sample.index[0]} RequestID: {sample.iloc[0].request_id} Relative time: {sample.iloc[0].relative_time} \\nText: {sample.iloc[0].text}')\n",
    "Audio(a, rate=sr, autoplay=True)"
   ]
  },
  {
   "cell_type": "markdown",
   "id": "022ec36f-9478-4908-b966-b50f2b5978b1",
   "metadata": {},
   "source": [
    "QPS vs Response time"
   ]
  },
  {
   "cell_type": "code",
   "execution_count": null,
   "id": "5c445e9a-76db-44e9-ba14-ff1c271a9347",
   "metadata": {},
   "outputs": [],
   "source": [
    "fig, ax1 = plt.subplots(figsize=(10, 6))\n",
    "\n",
    "color1 = '#1f77b4'  # Blue\n",
    "ax1.set_xlabel('Time')\n",
    "ax1.set_ylabel('Requests per Second', color=color1)\n",
    "line1 = ax1.plot(time_df.timestamp, time_df.requests_per_s, color=color1, label='Requests per Second')\n",
    "ax1.tick_params(axis='y', labelcolor=color1)\n",
    "ax1.set_xticks([])\n",
    "\n",
    "ax2 = ax1.twinx()\n",
    "color2 = '#ff7f0e'  # Orange\n",
    "ax2.set_ylabel('P95 Response Time', color=color2)\n",
    "line2 = ax2.plot(time_df.timestamp, time_df.p95_response_time, color=color2, label='P95 Response Time (s)')\n",
    "ax2.tick_params(axis='y', labelcolor=color2)\n",
    "\n",
    "lines = line1 + line2\n",
    "labels = [l.get_label() for l in lines]\n",
    "ax1.legend(lines, labels, loc='upper right')\n",
    "\n",
    "plt.tight_layout()\n",
    "plt.show()"
   ]
  },
  {
   "cell_type": "code",
   "execution_count": null,
   "id": "0b93af31-f1b1-47b7-84c6-2f0293b987c7",
   "metadata": {},
   "outputs": [],
   "source": []
  }
 ],
 "metadata": {
  "kernelspec": {
   "display_name": "Python 3 (ipykernel)",
   "language": "python",
   "name": "python3"
  },
  "language_info": {
   "codemirror_mode": {
    "name": "ipython",
    "version": 3
   },
   "file_extension": ".py",
   "mimetype": "text/x-python",
   "name": "python",
   "nbconvert_exporter": "python",
   "pygments_lexer": "ipython3",
   "version": "3.10.14"
  }
 },
 "nbformat": 4,
 "nbformat_minor": 5
}
