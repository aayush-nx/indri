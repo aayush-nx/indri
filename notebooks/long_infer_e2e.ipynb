{
 "cells": [
  {
   "cell_type": "code",
   "execution_count": null,
   "id": "83de6684-28bf-4763-a649-83f97f2dacdd",
   "metadata": {},
   "outputs": [],
   "source": [
    "import os\n",
    "import math\n",
    "import torch\n",
    "import random\n",
    "import numpy as np\n",
    "from pathlib import Path\n",
    "from torch.cuda import empty_cache\n",
    "from IPython.display import Audio\n",
    "import matplotlib.pyplot as plt\n",
    "from audiotoken import AudioToken, Tokenizers\n",
    "\n",
    "from tts.long_infer import AudioSemantic, normalize_text, generate_long\n",
    "from tts.infer import AudioSemantic as VanillaAudioSemantic\n",
    "from common import Config as cfg\n",
    "from common import ACOUSTIC, SEMANTIC, TEXT, ctx"
   ]
  },
  {
   "cell_type": "code",
   "execution_count": null,
   "id": "0ec07f6e-1c9b-4401-ab62-5fe9dfbb23cc",
   "metadata": {
    "scrolled": true
   },
   "outputs": [],
   "source": [
    "ttslib = AudioSemantic()\n",
    "vanilla_ttslib = VanillaAudioSemantic()\n",
    "acoustic_tokenizer = AudioToken(Tokenizers.acoustic, device='cuda:0')\n",
    "semantic_tokenizer = AudioToken(Tokenizers.semantic_s, device='cuda:0')"
   ]
  },
  {
   "cell_type": "code",
   "execution_count": null,
   "id": "bb138b67-a944-47ea-95ce-07881e8ab9f0",
   "metadata": {},
   "outputs": [],
   "source": [
    "def replace_consecutive(arr):\n",
    "    mask = np.concatenate(([True], arr[1:] != arr[:-1]))\n",
    "    return arr[mask]"
   ]
  },
  {
   "cell_type": "markdown",
   "id": "fdbeb8b4-244b-4924-8d00-99686254aa51",
   "metadata": {},
   "source": [
    "Prepare the prompts"
   ]
  },
  {
   "cell_type": "code",
   "execution_count": null,
   "id": "56c89ab5-1e32-43f0-8044-07788535c6df",
   "metadata": {
    "scrolled": true
   },
   "outputs": [],
   "source": [
    "prompt_tokens = np.load('prompts/jenny_short/tokens.npz')\n",
    "sa_prompt_toks_dict = {\n",
    "    'source_tokens': prompt_tokens['SEMANTIC'],\n",
    "    'target_tokens': prompt_tokens['ACOUSTIC']\n",
    "}\n",
    "\n",
    "ts_prompt_toks_dict = {\n",
    "    'source_tokens': prompt_tokens['TEXT'],\n",
    "    'target_tokens': prompt_tokens['SEMANTIC']\n",
    "}"
   ]
  },
  {
   "cell_type": "code",
   "execution_count": null,
   "id": "9e416179-9f37-4bdc-83f7-f3c23959cf08",
   "metadata": {},
   "outputs": [],
   "source": [
    "sa_prompt_toks_dict['source_tokens'].shape, sa_prompt_toks_dict['target_tokens'].shape"
   ]
  },
  {
   "cell_type": "code",
   "execution_count": null,
   "id": "5062895a-e842-438f-b88b-fbfab67e6bae",
   "metadata": {},
   "outputs": [],
   "source": [
    "ts_prompt_toks_dict['source_tokens'].shape, ts_prompt_toks_dict['target_tokens'].shape"
   ]
  },
  {
   "cell_type": "code",
   "execution_count": null,
   "id": "557230bb-f4cc-4151-aa51-c01cbe2ed1e6",
   "metadata": {},
   "outputs": [],
   "source": [
    "ttslib.text_tokenizer.decode( prompt_tokens['TEXT'])"
   ]
  },
  {
   "cell_type": "code",
   "execution_count": null,
   "id": "7c20769d-03fc-407b-bfef-a39b90fea6a3",
   "metadata": {},
   "outputs": [],
   "source": []
  },
  {
   "cell_type": "markdown",
   "id": "060073a5-0fe4-4cc6-9811-a5dd225a5ede",
   "metadata": {},
   "source": [
    "Text to semantic"
   ]
  },
  {
   "cell_type": "code",
   "execution_count": null,
   "id": "b18a1963-dd02-464b-a4d1-f76cf685474a",
   "metadata": {},
   "outputs": [],
   "source": [
    "from datasets import load_dataset\n",
    "ds = load_dataset(\"roneneldan/TinyStories\")\n",
    "print(len(ds['train']))"
   ]
  },
  {
   "cell_type": "code",
   "execution_count": null,
   "id": "f52266ff-3608-474c-bb0b-d630ed6327d6",
   "metadata": {},
   "outputs": [],
   "source": [
    "k = random.sample(range(len(ds['train'])), 1)[0]\n",
    "random_txt = ds['train'][k]['text']\n",
    "\n",
    "print(k, random_txt)"
   ]
  },
  {
   "cell_type": "code",
   "execution_count": null,
   "id": "ea21e9f6-05a2-4497-b152-5577721192d5",
   "metadata": {},
   "outputs": [],
   "source": [
    "random_txt = \"\"\"In the beginning the Universe was created. This has made a lot of people very angry.\"\"\""
   ]
  },
  {
   "cell_type": "code",
   "execution_count": null,
   "id": "90d5c37e-3b24-4f94-b7e2-733005b2ec2b",
   "metadata": {},
   "outputs": [],
   "source": [
    "sem_toks = ttslib.text_to_semantic_long(\n",
    "    random_txt,\n",
    "    max_source_tokens=32,\n",
    "    source_overlap=16,\n",
    "    temperature=0.99,\n",
    "    max_new_tokens=1024,\n",
    "    prompt_dict=ts_prompt_toks_dict\n",
    ")\n",
    "\n",
    "print(sem_toks.shape)"
   ]
  },
  {
   "cell_type": "code",
   "execution_count": null,
   "id": "a74bb0f0-4987-4c65-8cd9-c4fd38842e68",
   "metadata": {
    "scrolled": true
   },
   "outputs": [],
   "source": [
    "auds = []\n",
    "\n",
    "for i in range(0, sem_toks.shape[-1], 200):\n",
    "    start_idx = i\n",
    "    end_idx = i + 200\n",
    "    try:\n",
    "        print(start_idx, end_idx)\n",
    "        aud = vanilla_ttslib.semantic_to_audio(sem_toks[start_idx: end_idx])\n",
    "        print(aud.shape)\n",
    "        auds.append(aud)\n",
    "        display(Audio(aud[0], rate=24000))\n",
    "    except Exception as err:\n",
    "        print(err)"
   ]
  },
  {
   "cell_type": "code",
   "execution_count": null,
   "id": "b48234fc-353f-4974-9f96-d67b58fa0af6",
   "metadata": {},
   "outputs": [],
   "source": [
    "aud = vanilla_ttslib.semantic_to_audio(sem_toks[100:])\n",
    "display(Audio(aud[0], rate=24000))"
   ]
  },
  {
   "cell_type": "markdown",
   "id": "3a35170c-0792-45e5-90fa-07dd555821e7",
   "metadata": {},
   "source": [
    "Semantic to acoustic"
   ]
  },
  {
   "cell_type": "code",
   "execution_count": null,
   "id": "e3041ab7-c23f-4907-8d07-4c168d4e3ade",
   "metadata": {},
   "outputs": [],
   "source": [
    "30911"
   ]
  },
  {
   "cell_type": "code",
   "execution_count": null,
   "id": "47fc88cd-6312-4c12-af36-087122944f2b",
   "metadata": {},
   "outputs": [],
   "source": [
    "sem_toks.shape"
   ]
  },
  {
   "cell_type": "code",
   "execution_count": null,
   "id": "233784e3-8627-4171-9f97-ea94824bd48b",
   "metadata": {},
   "outputs": [],
   "source": [
    "acoustic_tokens, st, gt = generate_long(\n",
    "    model=ttslib.semantic_acoustic_model,\n",
    "    source=SEMANTIC,\n",
    "    target=ACOUSTIC,\n",
    "    source_tokens=sem_toks,\n",
    "    device='cuda:0',\n",
    "    temperature=0.95,\n",
    "    max_new_tokens=2048,\n",
    "    max_source_tokens=256,\n",
    "    source_overlap=128,\n",
    "    prompt_dict=sa_prompt_toks_dict\n",
    ")"
   ]
  },
  {
   "cell_type": "code",
   "execution_count": null,
   "id": "1c47530f-0780-4e82-8a03-fcdebd8a17fb",
   "metadata": {
    "scrolled": true
   },
   "outputs": [],
   "source": [
    "empty_cache()\n",
    "wav = ttslib.acoustic_tokenizer.decode(torch.tensor(acoustic_tokens))\n",
    "display(Audio(wav[0].cpu().numpy(), rate=24000))"
   ]
  },
  {
   "cell_type": "code",
   "execution_count": null,
   "id": "95d927d4-b78b-4245-a118-fd6c13f1b51a",
   "metadata": {},
   "outputs": [],
   "source": [
    "idx = 2\n",
    "\n",
    "t = gt[idx] - cfg.OFFSET[ACOUSTIC]\n",
    "cb1 = t[::2] < 1024\n",
    "cb2 = t[1::2] >= 1024\n",
    "\n",
    "np.where(cb1 == False), np.where(cb2 == False)"
   ]
  },
  {
   "cell_type": "code",
   "execution_count": null,
   "id": "5dc84654-b473-43e3-9aa6-e85b192b4a59",
   "metadata": {},
   "outputs": [],
   "source": []
  },
  {
   "cell_type": "code",
   "execution_count": null,
   "id": "01396513-0127-4fcc-916e-27c3e9c7ca21",
   "metadata": {},
   "outputs": [],
   "source": []
  },
  {
   "cell_type": "code",
   "execution_count": null,
   "id": "27d6369f-66e2-4806-9b78-e020568494c6",
   "metadata": {},
   "outputs": [],
   "source": [
    "x = st[-1]\n",
    "print(x.shape)\n",
    "\n",
    "temp_sem = (x[0, :] - cfg.OFFSET[SEMANTIC])\n",
    "temp_aco = vanilla_ttslib.semantic_to_audio(temp_sem.cpu().numpy())\n",
    "Audio(temp_aco[0], rate=24000)"
   ]
  },
  {
   "cell_type": "code",
   "execution_count": null,
   "id": "3989c69f-0c82-4e38-a07f-c1d460e68cd8",
   "metadata": {},
   "outputs": [],
   "source": []
  },
  {
   "cell_type": "code",
   "execution_count": null,
   "id": "ee2d0b82-3c48-4bbf-820b-8f1cceb754f2",
   "metadata": {},
   "outputs": [],
   "source": []
  },
  {
   "cell_type": "markdown",
   "id": "ab85446a-556b-413a-a7e1-1acd65c4689e",
   "metadata": {},
   "source": [
    "Creating a prompt"
   ]
  },
  {
   "cell_type": "markdown",
   "id": "6b39b5e2-b556-4992-9f65-9f69163d734b",
   "metadata": {},
   "source": [
    "! ffmpeg -y -v 0 -i LJ025-0076.wav -acodec libmp3lame -b:a 64k female_prompt_2.wav"
   ]
  },
  {
   "cell_type": "code",
   "execution_count": null,
   "id": "872cf579-2679-426b-81e6-9a30af360b37",
   "metadata": {},
   "outputs": [],
   "source": [
    "import torchaudio\n",
    "import torch\n",
    "from pathlib import Path\n",
    "from transformers import Wav2Vec2FeatureExtractor\n",
    "\n",
    "from audiotoken import AudioToken, Tokenizers\n",
    "from tts.utils import read_audio_file, replace_consecutive"
   ]
  },
  {
   "cell_type": "code",
   "execution_count": null,
   "id": "319c45d9-3bff-48f5-86e5-7aaa98119571",
   "metadata": {},
   "outputs": [],
   "source": [
    "def hubert_processor(audio, processor):\n",
    "    return processor(\n",
    "        audio,\n",
    "        sampling_rate=16_000,\n",
    "        return_tensors='pt'\n",
    "    ).input_values[0]\n",
    "processor = Wav2Vec2FeatureExtractor.from_pretrained('voidful/mhubert-base')"
   ]
  },
  {
   "cell_type": "code",
   "execution_count": null,
   "id": "d03cee89-4779-458f-a80a-689e201cd829",
   "metadata": {},
   "outputs": [],
   "source": [
    "prompt_path = 'prompts/lj_female_long/audio.wav'"
   ]
  },
  {
   "cell_type": "code",
   "execution_count": null,
   "id": "b9c4a9c9-6eb2-4644-8754-f6ca9c7b5c18",
   "metadata": {},
   "outputs": [],
   "source": [
    "acoustic_tokenizer = AudioToken(Tokenizers.acoustic, device='cuda:0')\n",
    "semantic_tokenizer = AudioToken(Tokenizers.semantic_s, device='cuda:0')"
   ]
  },
  {
   "cell_type": "code",
   "execution_count": null,
   "id": "78e444ae-fcf6-4345-8782-68c3077d2a0f",
   "metadata": {
    "scrolled": true
   },
   "outputs": [],
   "source": [
    "aud = read_audio_file(Path(prompt_path), 16000)\n",
    "aud = processor(aud, sampling_rate=16000)\n",
    "aud = aud['input_values'][0]"
   ]
  },
  {
   "cell_type": "code",
   "execution_count": null,
   "id": "9c882075-b9aa-4899-90d3-ddf2c7d2e856",
   "metadata": {
    "scrolled": true
   },
   "outputs": [],
   "source": [
    "prompt_aco_toks = acoustic_tokenizer.encode(Path(prompt_path))\n",
    "prompt_sem_toks = semantic_tokenizer.encode(aud)\n",
    "\n",
    "prompt_sem_toks = replace_consecutive(prompt_sem_toks[0][0])\n",
    "\n",
    "flat_aco_toks = prompt_aco_toks[0, :2, :].clone()\n",
    "flat_aco_toks[1] += 1024\n",
    "flat_aco_toks = torch.stack([flat_aco_toks[0], flat_aco_toks[1]], dim=1).flatten()\n",
    "\n",
    "# txt_toks = np.array(ttslib.text_tokenizer.encode('many animals of even complex structure which live parasitically within others are wholly devoid of an alimentary cavity <period>')).astype(np.int64)\n",
    "txt_toks = np.array(ttslib.text_tokenizer.encode('said meg impatiently <period>')).astype(np.int64)"
   ]
  },
  {
   "cell_type": "code",
   "execution_count": null,
   "id": "8c506fe9-5331-43f4-b4ef-74da520ad37f",
   "metadata": {},
   "outputs": [],
   "source": [
    "auds = acoustic_tokenizer.decode(prompt_aco_toks)\n",
    "Audio(auds[0], rate=24000)"
   ]
  },
  {
   "cell_type": "code",
   "execution_count": null,
   "id": "b4245df5-0689-4339-9ba9-448beeeb00f4",
   "metadata": {},
   "outputs": [],
   "source": [
    "np.savez(\n",
    "    'prompts/lj_female_long/tokens.npz',\n",
    "    SEMANTIC=prompt_sem_toks.numpy().astype(np.int64),\n",
    "    ACOUSTIC=flat_aco_toks.numpy().astype(np.int64), \n",
    "    TEXT=txt_toks\n",
    ")"
   ]
  },
  {
   "cell_type": "code",
   "execution_count": null,
   "id": "10c7e301-7778-4e24-93d7-27ca63153f04",
   "metadata": {},
   "outputs": [],
   "source": [
    "prev = np.load('prompts/jenny_short/tokens.npz')"
   ]
  },
  {
   "cell_type": "code",
   "execution_count": null,
   "id": "53fa39df-3f4a-469a-93b0-324990bedb42",
   "metadata": {},
   "outputs": [],
   "source": []
  },
  {
   "cell_type": "code",
   "execution_count": null,
   "id": "e572cacd-7cc3-41ae-8030-e003345cb00e",
   "metadata": {},
   "outputs": [],
   "source": []
  }
 ],
 "metadata": {
  "kernelspec": {
   "display_name": "Python 3 (ipykernel)",
   "language": "python",
   "name": "python3"
  },
  "language_info": {
   "codemirror_mode": {
    "name": "ipython",
    "version": 3
   },
   "file_extension": ".py",
   "mimetype": "text/x-python",
   "name": "python",
   "nbconvert_exporter": "python",
   "pygments_lexer": "ipython3",
   "version": "3.11.5"
  }
 },
 "nbformat": 4,
 "nbformat_minor": 5
}
