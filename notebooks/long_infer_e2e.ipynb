{
 "cells": [
  {
   "cell_type": "code",
   "execution_count": null,
   "id": "1ca9078f-c17e-46c1-a206-144858dc6508",
   "metadata": {},
   "outputs": [],
   "source": [
    "import sys\n",
    "sys.path.append('..')"
   ]
  },
  {
   "cell_type": "code",
   "execution_count": null,
   "id": "83de6684-28bf-4763-a649-83f97f2dacdd",
   "metadata": {},
   "outputs": [],
   "source": [
    "import os\n",
    "import math\n",
    "import torch\n",
    "import random\n",
    "import numpy as np\n",
    "from pathlib import Path\n",
    "from torch.cuda import empty_cache\n",
    "from IPython.display import Audio\n",
    "import matplotlib.pyplot as plt\n",
    "from audiotoken import AudioToken, Tokenizers\n",
    "\n",
    "from tts.long_infer import AudioSemantic, normalize_text, generate_long, generate\n",
    "from common import Config as cfg\n",
    "from common import ACOUSTIC, SEMANTIC, TEXT, DEVICE, ctx"
   ]
  },
  {
   "cell_type": "code",
   "execution_count": null,
   "id": "0ec07f6e-1c9b-4401-ab62-5fe9dfbb23cc",
   "metadata": {
    "scrolled": true
   },
   "outputs": [],
   "source": [
    "ttslib = AudioSemantic()"
   ]
  },
  {
   "cell_type": "markdown",
   "id": "fdbeb8b4-244b-4924-8d00-99686254aa51",
   "metadata": {},
   "source": [
    "Prepare the prompts"
   ]
  },
  {
   "cell_type": "code",
   "execution_count": null,
   "id": "56c89ab5-1e32-43f0-8044-07788535c6df",
   "metadata": {
    "scrolled": true
   },
   "outputs": [],
   "source": [
    "prompt_tokens = np.load('../prompts/jenny_short/tokens.npz')\n",
    "sa_prompt_toks_dict = {\n",
    "    'source_tokens': prompt_tokens['SEMANTIC'],\n",
    "    'target_tokens': prompt_tokens['ACOUSTIC']\n",
    "}\n",
    "\n",
    "ts_prompt_toks_dict = {\n",
    "    'source_tokens': prompt_tokens['TEXT'],\n",
    "    'target_tokens': prompt_tokens['SEMANTIC']\n",
    "}"
   ]
  },
  {
   "cell_type": "code",
   "execution_count": null,
   "id": "9e416179-9f37-4bdc-83f7-f3c23959cf08",
   "metadata": {},
   "outputs": [],
   "source": [
    "sa_prompt_toks_dict['source_tokens'].shape, sa_prompt_toks_dict['target_tokens'].shape"
   ]
  },
  {
   "cell_type": "code",
   "execution_count": null,
   "id": "5062895a-e842-438f-b88b-fbfab67e6bae",
   "metadata": {},
   "outputs": [],
   "source": [
    "ts_prompt_toks_dict['source_tokens'].shape, ts_prompt_toks_dict['target_tokens'].shape"
   ]
  },
  {
   "cell_type": "code",
   "execution_count": null,
   "id": "557230bb-f4cc-4151-aa51-c01cbe2ed1e6",
   "metadata": {},
   "outputs": [],
   "source": [
    "ttslib.text_tokenizer.decode(prompt_tokens['TEXT'])"
   ]
  },
  {
   "cell_type": "markdown",
   "id": "060073a5-0fe4-4cc6-9811-a5dd225a5ede",
   "metadata": {},
   "source": [
    "Text to semantic"
   ]
  },
  {
   "cell_type": "code",
   "execution_count": null,
   "id": "b18a1963-dd02-464b-a4d1-f76cf685474a",
   "metadata": {
    "scrolled": true
   },
   "outputs": [],
   "source": [
    "from datasets import load_dataset\n",
    "ds = load_dataset(\"roneneldan/TinyStories\")\n",
    "print(len(ds['train']))"
   ]
  },
  {
   "cell_type": "code",
   "execution_count": null,
   "id": "f52266ff-3608-474c-bb0b-d630ed6327d6",
   "metadata": {},
   "outputs": [],
   "source": [
    "k = random.sample(range(len(ds['train'])), 1)[0]\n",
    "k = 1120689\n",
    "random_txt = ds['train'][k]['text']\n",
    "\n",
    "print(k, random_txt)"
   ]
  },
  {
   "cell_type": "code",
   "execution_count": null,
   "id": "fb972446-197e-4cba-a34c-10b3a2aeda3c",
   "metadata": {},
   "outputs": [],
   "source": [
    "random_txt = \"\"\"\n",
    "Once upon a time, in a cozy little house at the edge of a forest, lived a curious mouse named Pip. Pip loved to explore, but he had never ventured beyond his garden gate.\n",
    "One sunny morning, Pip decided it was time for an adventure. He packed a tiny backpack with cheese and crackers, then scurried out the gate.\n",
    "As Pip wandered through the forest, he met a friendly rabbit named Flopsy. \"Where are you going?\" Flopsy asked.\n",
    "\"I'm on an adventure!\" Pip replied excitedly.\n",
    "\"\"\""
   ]
  },
  {
   "cell_type": "code",
   "execution_count": null,
   "id": "90d5c37e-3b24-4f94-b7e2-733005b2ec2b",
   "metadata": {
    "scrolled": true
   },
   "outputs": [],
   "source": [
    "sem_toks = ttslib.text_to_semantic_long(\n",
    "    random_txt,\n",
    "    max_source_tokens=32,\n",
    "    source_overlap=16,\n",
    "    temperature=0.99,\n",
    "    max_new_tokens=1024,\n",
    "    prompt_dict=ts_prompt_toks_dict\n",
    ")\n",
    "\n",
    "print(sem_toks.shape)"
   ]
  },
  {
   "cell_type": "markdown",
   "id": "869ff202-fec6-4bba-8b76-aa5c463b1f5a",
   "metadata": {},
   "source": [
    "- gen above 8-9 s didnt work well\n",
    "- max gen as 1200, source toks as 256\n",
    "\n",
    "- gen above 4-5 s didnt work well\n",
    "- max gen as 600, source toks as 160"
   ]
  },
  {
   "cell_type": "code",
   "execution_count": null,
   "id": "515bde11-5f51-4e4b-b1bb-b744ae71f503",
   "metadata": {},
   "outputs": [],
   "source": [
    "steps = [1, 5, 10, 15, 20]\n",
    "source_toks = [s*35 for s in steps]\n",
    "dest_toks = [s*150 for s in steps]\n",
    "total_toks = [a+b for a, b in zip(source_toks, dest_toks)]\n",
    "\n",
    "steps, source_toks, dest_toks, total_toks"
   ]
  },
  {
   "cell_type": "code",
   "execution_count": null,
   "id": "a74bb0f0-4987-4c65-8cd9-c4fd38842e68",
   "metadata": {
    "scrolled": true
   },
   "outputs": [],
   "source": [
    "auds = []\n",
    "gen_kwargs = {'temperature': 0.95, 'max_source_tokens': 768, 'max_new_tokens': 3072}\n",
    "# gen_kwargs = {'temperature': 0.8, 'max_source_tokens': 256, 'max_new_tokens': 1024}\n",
    "\n",
    "stride = 200\n",
    "\n",
    "for i in range(0, sem_toks.shape[-1], stride):\n",
    "    start_idx = i\n",
    "    end_idx = i + stride\n",
    "    try:\n",
    "        print(start_idx, end_idx)\n",
    "        aud = ttslib.semantic_to_audio(sem_toks[start_idx: end_idx], model=ttslib.semantic_acoustic_model_new, **gen_kwargs)\n",
    "        display(Audio(aud[0], rate=24000))\n",
    "    except Exception as err:\n",
    "        print(err)"
   ]
  },
  {
   "cell_type": "code",
   "execution_count": null,
   "id": "c8a73afc-5d2b-4305-b0f5-f952d4d70f4a",
   "metadata": {},
   "outputs": [],
   "source": [
    "print(random_txt)"
   ]
  },
  {
   "cell_type": "code",
   "execution_count": null,
   "id": "7d1131af-7fe0-4391-bb04-df7f94f49a3c",
   "metadata": {
    "scrolled": true
   },
   "outputs": [],
   "source": [
    "gen_kwargs = {'temperature': 0.95, 'max_source_tokens': 768, 'max_new_tokens': 2048}\n",
    "\n",
    "for x in [100, 200, 300, 500, 600, 800]:\n",
    "    aud = ttslib.semantic_to_audio(sem_toks[:x], model=ttslib.semantic_acoustic_model_new, **gen_kwargs)\n",
    "    display(Audio(aud[0], rate=24000))"
   ]
  },
  {
   "cell_type": "code",
   "execution_count": null,
   "id": "5a0dacb5-5c7d-428a-8794-52e2446b67f5",
   "metadata": {},
   "outputs": [],
   "source": [
    "gen_kwargs = {'temperature': 0.95, 'max_source_tokens': 768, 'max_new_tokens': 2048}\n",
    "aud = ttslib.semantic_to_audio(sem_toks[450:600], model=ttslib.semantic_acoustic_model_new, **gen_kwargs)\n",
    "display(Audio(aud[0], rate=24000))"
   ]
  },
  {
   "cell_type": "code",
   "execution_count": null,
   "id": "b48234fc-353f-4974-9f96-d67b58fa0af6",
   "metadata": {
    "scrolled": true
   },
   "outputs": [],
   "source": [
    "gen_kwargs = {'temperature': 0.8, 'max_source_tokens': 256, 'max_new_tokens': 1024}\n",
    "aud = ttslib.semantic_to_audio(sem_toks[450:600], model=ttslib.semantic_acoustic_model, **gen_kwargs)\n",
    "display(Audio(aud[0], rate=24000))"
   ]
  },
  {
   "cell_type": "markdown",
   "id": "3a35170c-0792-45e5-90fa-07dd555821e7",
   "metadata": {},
   "source": [
    "Semantic to acoustic"
   ]
  },
  {
   "cell_type": "code",
   "execution_count": null,
   "id": "47fc88cd-6312-4c12-af36-087122944f2b",
   "metadata": {},
   "outputs": [],
   "source": [
    "sem_toks.shape"
   ]
  },
  {
   "cell_type": "code",
   "execution_count": null,
   "id": "233784e3-8627-4171-9f97-ea94824bd48b",
   "metadata": {
    "scrolled": true
   },
   "outputs": [],
   "source": [
    "acoustic_tokens, st, gt = generate_long(\n",
    "    model=ttslib.semantic_acoustic_model_new,\n",
    "    source=SEMANTIC,\n",
    "    target=ACOUSTIC,\n",
    "    source_tokens=sem_toks,\n",
    "    device=device,\n",
    "    temperature=0.95,\n",
    "    max_new_tokens=1500,\n",
    "    max_source_tokens=100,\n",
    "    source_overlap=50,\n",
    "    prompt_dict=sa_prompt_toks_dict\n",
    ")"
   ]
  },
  {
   "cell_type": "code",
   "execution_count": null,
   "id": "1c47530f-0780-4e82-8a03-fcdebd8a17fb",
   "metadata": {
    "scrolled": true
   },
   "outputs": [],
   "source": [
    "empty_cache()\n",
    "wav = ttslib.acoustic_tokenizer.decode(torch.tensor(acoustic_tokens))\n",
    "display(Audio(wav[0].cpu().numpy(), rate=24000))"
   ]
  },
  {
   "cell_type": "code",
   "execution_count": null,
   "id": "a3fec780-3a37-4370-bcc2-6b83829160f5",
   "metadata": {
    "scrolled": true
   },
   "outputs": [],
   "source": [
    "for idx in range(len(gt)):\n",
    "    a = gt[idx] - cfg.OFFSET[ACOUSTIC]\n",
    "    wav = ttslib.acoustic_tokenizer.decode(torch.tensor(a))\n",
    "    display(Audio(wav[0].cpu().numpy(), rate=24000))"
   ]
  },
  {
   "cell_type": "code",
   "execution_count": null,
   "id": "689ece23-5888-40f5-8575-e37f26fafe10",
   "metadata": {},
   "outputs": [],
   "source": [
    "random_txt"
   ]
  },
  {
   "cell_type": "code",
   "execution_count": null,
   "id": "95d927d4-b78b-4245-a118-fd6c13f1b51a",
   "metadata": {},
   "outputs": [],
   "source": [
    "idx = 2\n",
    "\n",
    "t = gt[idx] - cfg.OFFSET[ACOUSTIC]\n",
    "cb1 = t[::2] < 1024\n",
    "cb2 = t[1::2] >= 1024\n",
    "\n",
    "np.where(cb1 == False), np.where(cb2 == False)"
   ]
  },
  {
   "cell_type": "markdown",
   "id": "ab85446a-556b-413a-a7e1-1acd65c4689e",
   "metadata": {},
   "source": [
    "Creating a prompt"
   ]
  },
  {
   "cell_type": "markdown",
   "id": "6b39b5e2-b556-4992-9f65-9f69163d734b",
   "metadata": {},
   "source": [
    "! ffmpeg -y -v 0 -i LJ025-0076.wav -acodec libmp3lame -b:a 64k female_prompt_2.wav"
   ]
  },
  {
   "cell_type": "code",
   "execution_count": null,
   "id": "93535705-6f43-4cbe-8eb6-36e836add3fa",
   "metadata": {},
   "outputs": [],
   "source": [
    "acoustic_tokenizer = AudioToken(Tokenizers.acoustic, device=device)\n",
    "semantic_tokenizer = AudioToken(Tokenizers.semantic_s, device=device)\n",
    "\n",
    "def replace_consecutive(arr):\n",
    "    mask = np.concatenate(([True], arr[1:] != arr[:-1]))\n",
    "    return arr[mask]"
   ]
  },
  {
   "cell_type": "code",
   "execution_count": null,
   "id": "319c45d9-3bff-48f5-86e5-7aaa98119571",
   "metadata": {},
   "outputs": [],
   "source": [
    "def hubert_processor(audio, processor):\n",
    "    return processor(\n",
    "        audio,\n",
    "        sampling_rate=16_000,\n",
    "        return_tensors='pt'\n",
    "    ).input_values[0]\n",
    "processor = Wav2Vec2FeatureExtractor.from_pretrained('voidful/mhubert-base')"
   ]
  },
  {
   "cell_type": "code",
   "execution_count": null,
   "id": "d03cee89-4779-458f-a80a-689e201cd829",
   "metadata": {},
   "outputs": [],
   "source": [
    "prompt_path = 'prompts/lj_female_long/audio.wav'"
   ]
  },
  {
   "cell_type": "code",
   "execution_count": null,
   "id": "b9c4a9c9-6eb2-4644-8754-f6ca9c7b5c18",
   "metadata": {},
   "outputs": [],
   "source": [
    "acoustic_tokenizer = AudioToken(Tokenizers.acoustic, device=device)\n",
    "semantic_tokenizer = AudioToken(Tokenizers.semantic_s, device=device)"
   ]
  },
  {
   "cell_type": "code",
   "execution_count": null,
   "id": "78e444ae-fcf6-4345-8782-68c3077d2a0f",
   "metadata": {
    "scrolled": true
   },
   "outputs": [],
   "source": [
    "aud = read_audio_file(Path(prompt_path), 16000)\n",
    "aud = processor(aud, sampling_rate=16000)\n",
    "aud = aud['input_values'][0]"
   ]
  },
  {
   "cell_type": "code",
   "execution_count": null,
   "id": "9c882075-b9aa-4899-90d3-ddf2c7d2e856",
   "metadata": {
    "scrolled": true
   },
   "outputs": [],
   "source": [
    "prompt_aco_toks = acoustic_tokenizer.encode(Path(prompt_path))\n",
    "prompt_sem_toks = semantic_tokenizer.encode(aud)\n",
    "\n",
    "prompt_sem_toks = replace_consecutive(prompt_sem_toks[0][0])\n",
    "\n",
    "flat_aco_toks = prompt_aco_toks[0, :2, :].clone()\n",
    "flat_aco_toks[1] += 1024\n",
    "flat_aco_toks = torch.stack([flat_aco_toks[0], flat_aco_toks[1]], dim=1).flatten()\n",
    "\n",
    "# txt_toks = np.array(ttslib.text_tokenizer.encode('many animals of even complex structure which live parasitically within others are wholly devoid of an alimentary cavity <period>')).astype(np.int64)\n",
    "txt_toks = np.array(ttslib.text_tokenizer.encode('said meg impatiently <period>')).astype(np.int64)"
   ]
  },
  {
   "cell_type": "code",
   "execution_count": null,
   "id": "8c506fe9-5331-43f4-b4ef-74da520ad37f",
   "metadata": {},
   "outputs": [],
   "source": [
    "auds = acoustic_tokenizer.decode(prompt_aco_toks)\n",
    "Audio(auds[0], rate=24000)"
   ]
  },
  {
   "cell_type": "code",
   "execution_count": null,
   "id": "b4245df5-0689-4339-9ba9-448beeeb00f4",
   "metadata": {},
   "outputs": [],
   "source": [
    "np.savez(\n",
    "    'prompts/lj_female_long/tokens.npz',\n",
    "    SEMANTIC=prompt_sem_toks.numpy().astype(np.int64),\n",
    "    ACOUSTIC=flat_aco_toks.numpy().astype(np.int64), \n",
    "    TEXT=txt_toks\n",
    ")"
   ]
  },
  {
   "cell_type": "code",
   "execution_count": null,
   "id": "10c7e301-7778-4e24-93d7-27ca63153f04",
   "metadata": {},
   "outputs": [],
   "source": [
    "prev = np.load('prompts/jenny_short/tokens.npz')"
   ]
  },
  {
   "cell_type": "code",
   "execution_count": null,
   "id": "53fa39df-3f4a-469a-93b0-324990bedb42",
   "metadata": {},
   "outputs": [],
   "source": []
  },
  {
   "cell_type": "code",
   "execution_count": null,
   "id": "e572cacd-7cc3-41ae-8030-e003345cb00e",
   "metadata": {},
   "outputs": [],
   "source": []
  }
 ],
 "metadata": {
  "kernelspec": {
   "display_name": "Python 3 (ipykernel)",
   "language": "python",
   "name": "python3"
  },
  "language_info": {
   "codemirror_mode": {
    "name": "ipython",
    "version": 3
   },
   "file_extension": ".py",
   "mimetype": "text/x-python",
   "name": "python",
   "nbconvert_exporter": "python",
   "pygments_lexer": "ipython3",
   "version": "3.11.5"
  }
 },
 "nbformat": 4,
 "nbformat_minor": 5
}
