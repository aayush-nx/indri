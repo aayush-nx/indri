{
 "cells": [
  {
   "cell_type": "code",
   "execution_count": null,
   "id": "921df64f-a938-4d39-b3dd-3b616a606039",
   "metadata": {
    "scrolled": true
   },
   "outputs": [],
   "source": [
    "import os\n",
    "import pandas as pd\n",
    "from tqdm import tqdm\n",
    "from vllm import LLM, SamplingParams\n",
    "from transformers import AutoTokenizer\n",
    "# from llmcompressor.transformers import SparseAutoModelForCausalLM"
   ]
  },
  {
   "cell_type": "code",
   "execution_count": null,
   "id": "ae5b2f5f-6cf3-4321-b180-c76ee7484a7b",
   "metadata": {},
   "outputs": [],
   "source": [
    "model_ids = [\n",
    "    'meta-llama/Llama-3.2-1B-Instruct',\n",
    "    'neuralmagic/Llama-3.2-1B-Instruct-quantized.w8a8',\n",
    "    'ciCic/llama-3.2-1B-Instruct-AWQ',\n",
    "]\n",
    "\n",
    "messages = [\n",
    "    'The rain tapped gently against the window pane.',\n",
    "    'He found comfort in the rhythm of the ocean waves.',\n",
    "    'The children laughed as they played in the park.',\n",
    "    'A soft breeze carried the scent of blooming flowers.',\n",
    "    'She painted with colors that seemed to dance on the canvas.',\n",
    "    'The cat curled up in the warm sunlight.',\n",
    "    'He took a deep breath and dove into the clear blue water.',\n",
    "    'The music filled the room with a peaceful ambiance.',\n",
    "    'They watched the stars, imagining distant worlds.',\n",
    "    'Her smile lit up the room like the morning sun.',\n",
    "    'The forest was alive with the sounds of birds and insects.',\n",
    "    'He wrote letters that he never intended to send.',\n",
    "    'The coffee shop was a haven of warmth and quiet.',\n",
    "    'She spent the afternoon tending to her garden.',\n",
    "    'The snowflakes fell softly, covering everything in white.',\n",
    "    'He dreamed of traveling to distant lands.',\n",
    "    'The smell of freshly baked bread filled the air.',\n",
    "    'She wore a necklace that shimmered in the light.',\n",
    "    'The old man told stories of his youth by the fireplace.',\n",
    "    'They danced under the moonlight, their laughter echoing.',\n",
    "    'The library was a treasure trove of forgotten knowledge.',\n",
    "    'He watched the sunrise with a sense of hope.',\n",
    "    'The car sped down the open road, the wind in their hair.',\n",
    "    'She captured moments with her camera, freezing time.',\n",
    "    'The city buzzed with life, even late at night.',\n",
    "    'He carved wooden figures with intricate detail.',\n",
    "    'The waves crashed against the rocky shore.',\n",
    "    'Her voice was soft, yet carried a powerful message.',\n",
    "    'The fire crackled, warming the cold night air.',\n",
    "    'They walked hand in hand through the bustling market.',\n",
    "    'The clouds parted, revealing a brilliant blue sky.',\n",
    "    'She spent hours writing in her journal, lost in thought.',\n",
    "    'The clock ticked loudly in the silent room.',\n",
    "    'He built models of ships that sailed the seven seas.',\n",
    "    'The garden was full of vibrant, colorful flowers.',\n",
    "    'She stood on the bridge, watching the river flow beneath her.',\n",
    "    \"The chef prepared dishes with an artist's touch.\",\n",
    "    'He played the piano with passion and skill.',\n",
    "    'The train moved steadily through the countryside.',\n",
    "    'She found beauty in the simplest of things.',\n",
    "    'The mountain trail wound through tall pine trees.',\n",
    "    'They watched the sunset, their hearts full of peace.',\n",
    "    'The old house creaked in the wind, full of memories.',\n",
    "    'He studied the stars, fascinated by the night sky.',\n",
    "    'The festival was alive with color, music, and joy.',\n",
    "    'She practiced yoga by the lake, finding her balance.',\n",
    "    'The clock struck midnight, marking the end of the year.',\n",
    "    'He sketched portraits of people in the crowded café.',\n",
    "    'The forest floor was carpeted with fallen leaves.',\n",
    "    'She found solace in the quiet moments of the day.',\n",
    "    'The book was filled with tales of adventure and mystery.'\n",
    "]"
   ]
  },
  {
   "cell_type": "code",
   "execution_count": null,
   "id": "839af36f-4281-4696-b0be-b52f954a6871",
   "metadata": {
    "scrolled": true
   },
   "outputs": [],
   "source": [
    "mid = 1\n",
    "tokenizer = AutoTokenizer.from_pretrained(model_ids[mid])\n",
    "sampling_params = SamplingParams(\n",
    "    temperature=0.8,\n",
    "    top_k=100,\n",
    "    max_tokens=1024,\n",
    ")\n",
    "# llm = SparseAutoModelForCausalLM.from_pretrained(\n",
    "#     model_ids[mid], device_map=\"auto\", torch_dtype=\"auto\",\n",
    "# )\n",
    "llm = LLM(\n",
    "    model=model_ids[mid],\n",
    "    # dtype='bfloat16',\n",
    "    # quantization=\"awq_marlin\"\n",
    ")\n",
    "\n",
    "llm.llm_engine.model_config.dtype"
   ]
  },
  {
   "cell_type": "code",
   "execution_count": null,
   "id": "eeccdff7-2e38-461b-b63f-33abb25a4338",
   "metadata": {},
   "outputs": [],
   "source": [
    "def get_runtime_metrics(request_output):\n",
    "    metrics = {}\n",
    "    metrics['time_to_first_token'] = request_output.metrics.first_token_time - request_output.metrics.first_scheduled_time\n",
    "    metrics['time_to_last_token'] =  request_output.metrics.finished_time - request_output.metrics.first_scheduled_time\n",
    "    metrics['input_tokens'] = len(request_output.prompt_token_ids)\n",
    "    metrics['output_tokens'] = len(request_output.outputs[0].token_ids)\n",
    "    metrics['total_tokens'] = metrics['input_tokens'] + metrics['output_tokens']\n",
    "    metrics['toks_per_s'] = metrics['total_tokens']/metrics['time_to_last_token']\n",
    "\n",
    "    return metrics\n",
    "\n",
    "history = []\n",
    "\n",
    "for idx in range(len(messages)):\n",
    "    temp = messages[:idx+1]\n",
    "    temp = ' '.join(temp)\n",
    "\n",
    "    ip = [\n",
    "        {\"role\": \"system\", \"content\": \"You always complete the story in 200 words.\"},\n",
    "        {\"role\": \"user\", \"content\": temp},\n",
    "    ]\n",
    "    prompts = tokenizer.apply_chat_template(ip, add_generation_prompt=True, tokenize=False)\n",
    "\n",
    "    output = llm.generate(prompts, sampling_params=sampling_params)\n",
    "    history.append(get_runtime_metrics(output[0]))\n",
    "\n",
    "metrics = pd.DataFrame.from_records(history)"
   ]
  },
  {
   "cell_type": "code",
   "execution_count": null,
   "id": "dd7a7e12-f4b5-44eb-b3ac-5cfa2a6fd650",
   "metadata": {
    "scrolled": true
   },
   "outputs": [],
   "source": [
    "metrics"
   ]
  },
  {
   "cell_type": "code",
   "execution_count": null,
   "id": "af5983a5-4328-4a5a-ae1c-54df1cfd4222",
   "metadata": {},
   "outputs": [],
   "source": [
    "metrics.to_csv(model_ids[mid].replace('/', '__') + '.csv')"
   ]
  },
  {
   "cell_type": "markdown",
   "id": "4364e814-f3b5-433f-aea6-3f2c53ff6885",
   "metadata": {},
   "source": [
    "---"
   ]
  },
  {
   "cell_type": "code",
   "execution_count": null,
   "id": "5036ac44-04f0-4000-9204-9397eeaf08af",
   "metadata": {},
   "outputs": [],
   "source": [
    "import pandas as pd\n",
    "import matplotlib.pyplot as plt"
   ]
  },
  {
   "cell_type": "code",
   "execution_count": null,
   "id": "cc602f7b-667d-4e75-968a-12e2637c6cef",
   "metadata": {},
   "outputs": [],
   "source": [
    "unquant = pd.read_csv('meta-llama__Llama-3.2-1B-Instruct.csv').sort_values('total_tokens')#.iloc[:10]\n",
    "awq = pd.read_csv('ciCic__llama-3.2-1B-Instruct-AWQ.csv').sort_values('total_tokens')#.iloc[:10]\n",
    "w8a8 = pd.read_csv('neuralmagic__Llama-3.2-1B-Instruct-quantized.w8a8.csv').sort_values('total_tokens')#.iloc[:10]"
   ]
  },
  {
   "cell_type": "code",
   "execution_count": null,
   "id": "b482e518-7886-4c3b-ad05-05ad2a571f4e",
   "metadata": {},
   "outputs": [],
   "source": [
    "plt.figure()\n",
    "plt.plot(unquant['total_tokens'], unquant['toks_per_s'], label='Unquantized')\n",
    "plt.plot(awq['total_tokens'], awq['toks_per_s'], label='AWQ')\n",
    "plt.plot(w8a8['total_tokens'], w8a8['toks_per_s'], label='W8A8')\n",
    "\n",
    "plt.xlabel('Total Tokens')\n",
    "plt.ylabel('Tokens per s')\n",
    "plt.legend()\n",
    "plt.show()"
   ]
  },
  {
   "cell_type": "code",
   "execution_count": null,
   "id": "1bb35297-55a5-40ac-ad1a-64f36c011736",
   "metadata": {},
   "outputs": [],
   "source": []
  }
 ],
 "metadata": {
  "kernelspec": {
   "display_name": "Python 3 (ipykernel)",
   "language": "python",
   "name": "python3"
  },
  "language_info": {
   "codemirror_mode": {
    "name": "ipython",
    "version": 3
   },
   "file_extension": ".py",
   "mimetype": "text/x-python",
   "name": "python",
   "nbconvert_exporter": "python",
   "pygments_lexer": "ipython3",
   "version": "3.11.6"
  }
 },
 "nbformat": 4,
 "nbformat_minor": 5
}
