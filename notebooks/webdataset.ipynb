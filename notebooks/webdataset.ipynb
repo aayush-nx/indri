{
 "cells": [
  {
   "cell_type": "code",
   "execution_count": null,
   "id": "b5771867-9106-4d3b-9ade-af14f1c9e788",
   "metadata": {},
   "outputs": [],
   "source": [
    "import os\n",
    "from pathlib import Path\n",
    "\n",
    "from torch.utils.data import DataLoader\n",
    "import webdataset as wds"
   ]
  },
  {
   "cell_type": "code",
   "execution_count": null,
   "id": "52648a64-a04a-4146-944f-e0977e89f35a",
   "metadata": {},
   "outputs": [],
   "source": [
    "hf_token = os.environ['CMERAKI_HF_TOKEN']\n",
    "url = \"https://huggingface.co/datasets/cmeraki/audiofolder_webdataset/resolve/main/en__gs__{{000000..000100}}.tar\"\n",
    "url = f\"pipe:curl -s -L {url} -H 'Authorization:Bearer {hf_token}'\"\n",
    "\n",
    "cache_dir = Path('~/.cache/wds/tmp/').expanduser()\n",
    "os.makedirs(cache_dir, exist_ok=True)"
   ]
  },
  {
   "cell_type": "markdown",
   "id": "c1ad4424-6233-4f5a-bd6b-0833002dc2e3",
   "metadata": {},
   "source": [
    "### Read webds"
   ]
  },
  {
   "cell_type": "code",
   "execution_count": null,
   "id": "5e071b01-adc8-410d-9540-603195ff0969",
   "metadata": {},
   "outputs": [],
   "source": [
    "def get_sample(item):\n",
    "    txt = item['json']['raw_text']\n",
    "    audio = item['wav']\n",
    "\n",
    "    return txt, audio"
   ]
  },
  {
   "cell_type": "code",
   "execution_count": null,
   "id": "8735ee62-973d-4171-9234-10e54cd203e0",
   "metadata": {},
   "outputs": [],
   "source": [
    "dataset = wds.WebDataset(url, shardshuffle=False, cache_dir=cache_dir).decode().map(get_sample)"
   ]
  },
  {
   "cell_type": "code",
   "execution_count": null,
   "id": "a6632410-1d7d-48d5-927c-ffa499561aa4",
   "metadata": {
    "scrolled": true
   },
   "outputs": [],
   "source": [
    "idx = 10\n",
    "for i, elem in enumerate(dataset):\n",
    "    if i >= idx:\n",
    "        break\n",
    "\n",
    "print(elem)"
   ]
  },
  {
   "cell_type": "code",
   "execution_count": null,
   "id": "56c05c24-ad68-479c-9981-38fcc17968fc",
   "metadata": {},
   "outputs": [],
   "source": [
    "# Create DataLoader for batched loading\n",
    "dataloader = DataLoader(\n",
    "    dataset.batched(256),\n",
    "    batch_size=None,\n",
    "    num_workers=2\n",
    ")\n",
    "\n",
    "for elem in dataloader:\n",
    "    break\n",
    "\n",
    "print(len(elem[0]), len(elem[1]))"
   ]
  },
  {
   "cell_type": "markdown",
   "id": "2816f19e-7d1d-4b4e-9402-f9821e270895",
   "metadata": {},
   "source": [
    "### Transform webds"
   ]
  },
  {
   "cell_type": "code",
   "execution_count": null,
   "id": "10f6ebf8-8a7a-458c-8613-9ef9e59b383f",
   "metadata": {},
   "outputs": [],
   "source": [
    "import os\n",
    "import io\n",
    "import torch\n",
    "\n",
    "from tqdm import tqdm\n",
    "from pathlib import Path\n",
    "import webdataset as wds\n",
    "import torchaudio\n",
    "from torch.utils.data import DataLoader\n",
    "\n",
    "from transformers import MimiModel, AutoFeatureExtractor"
   ]
  },
  {
   "cell_type": "code",
   "execution_count": null,
   "id": "0fb7d742",
   "metadata": {},
   "outputs": [],
   "source": [
    "tokenizer = MimiModel.from_pretrained(\"kyutai/mimi\")\n",
    "\n",
    "device = 'cpu'\n",
    "\n",
    "if torch.cuda.is_available():\n",
    "    device = 'cuda:0'\n",
    "    tokenizer.to(device)\n",
    "\n",
    "tokenizer.eval()\n",
    "n_codebooks = 8"
   ]
  },
  {
   "cell_type": "code",
   "execution_count": null,
   "id": "ceb3e486",
   "metadata": {},
   "outputs": [],
   "source": [
    "def tokenize(item):\n",
    "    byte_io = io.BytesIO(item['wav'])\n",
    "    audio, sr = torchaudio.load(byte_io)\n",
    "    audio = torchaudio.functional.resample(audio, orig_freq=sr, new_freq=24000)\n",
    "\n",
    "    encoder_outputs = tokenizer.encode(\n",
    "        audio.unsqueeze(0).to(device),\n",
    "        None,\n",
    "        num_quantizers=n_codebooks\n",
    "    ).audio_codes.to(torch.int16).detach().cpu().numpy()\n",
    "\n",
    "    item['mimi.npy'] = encoder_outputs\n",
    "    item.pop('wav')\n",
    "\n",
    "    return item"
   ]
  },
  {
   "cell_type": "code",
   "execution_count": null,
   "id": "4d7447de",
   "metadata": {},
   "outputs": [],
   "source": [
    "dataset = wds.WebDataset(url, shardshuffle=False, cache_dir=cache_dir).decode().map(tokenize)\n",
    "dataloader = DataLoader(dataset, batch_size=None, num_workers=4)"
   ]
  },
  {
   "cell_type": "code",
   "execution_count": null,
   "id": "2776313d",
   "metadata": {},
   "outputs": [],
   "source": [
    "with wds.ShardWriter(f\"transform_out__%06d.tar\", maxsize=1e9) as sink:\n",
    "    for sample in tqdm(dataset, desc='Tokenizing audio...'):\n",
    "        sink.write(sample)"
   ]
  },
  {
   "cell_type": "markdown",
   "id": "99e1aa25-504a-44d0-b692-341da1adfc2f",
   "metadata": {},
   "source": [
    "### Reading transformed webds"
   ]
  },
  {
   "cell_type": "code",
   "execution_count": null,
   "id": "4a1928de",
   "metadata": {},
   "outputs": [],
   "source": [
    "transform_dataset = wds.WebDataset(\n",
    "    str(Path('./transform_out__{000000..000006}.tar').absolute()),\n",
    "    shardshuffle=False\n",
    ").decode()"
   ]
  },
  {
   "cell_type": "code",
   "execution_count": null,
   "id": "86b3d973",
   "metadata": {},
   "outputs": [],
   "source": [
    "total_len = 0\n",
    "total_fls = 0\n",
    "\n",
    "for elem in tqdm(transform_dataset):\n",
    "    total_fls += 1\n",
    "    total_len += elem['mimi.npy'].shape[-1]"
   ]
  }
 ],
 "metadata": {
  "kernelspec": {
   "display_name": "Python 3 (ipykernel)",
   "language": "python",
   "name": "python3"
  },
  "language_info": {
   "codemirror_mode": {
    "name": "ipython",
    "version": 3
   },
   "file_extension": ".py",
   "mimetype": "text/x-python",
   "name": "python",
   "nbconvert_exporter": "python",
   "pygments_lexer": "ipython3",
   "version": "3.11.6"
  }
 },
 "nbformat": 4,
 "nbformat_minor": 5
}
