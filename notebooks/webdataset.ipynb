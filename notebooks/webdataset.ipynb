{
 "cells": [
  {
   "cell_type": "code",
   "execution_count": 1,
   "id": "b5771867-9106-4d3b-9ade-af14f1c9e788",
   "metadata": {},
   "outputs": [],
   "source": [
    "import os\n",
    "from pathlib import Path\n",
    "from torch.utils.data import DataLoader\n",
    "import webdataset as wds"
   ]
  },
  {
   "cell_type": "code",
   "execution_count": 3,
   "id": "52648a64-a04a-4146-944f-e0977e89f35a",
   "metadata": {},
   "outputs": [],
   "source": [
    "hf_token = os.environ['CMERAKI_HF_TOKEN']\n",
    "url = \"https://huggingface.co/datasets/cmeraki/tts_webdataset/resolve/main/en__*__{{000000..000006}}.tar\"\n",
    "url = f\"pipe:curl -s -L {url} -H 'Authorization:Bearer {hf_token}'\"\n",
    "\n",
    "cache_dir = Path('~/.cache/wds/tmp/').expanduser()\n",
    "os.makedirs(cache_dir, exist_ok=True)\n",
    "\n",
    "def get_sample(item):\n",
    "    txt = item['json']['raw_text']\n",
    "    audio = item['wav']\n",
    "\n",
    "    return txt, audio"
   ]
  },
  {
   "cell_type": "code",
   "execution_count": null,
   "id": "8735ee62-973d-4171-9234-10e54cd203e0",
   "metadata": {},
   "outputs": [],
   "source": [
    "dataset = wds.WebDataset(url, shardshuffle=None, cache_dir=cache_dir).decode().map(get_sample)\n",
    "\n",
    "# Create DataLoader\n",
    "dataloader = DataLoader(\n",
    "    dataset.batched(256),\n",
    "    batch_size=None,\n",
    "    num_workers=4\n",
    ")"
   ]
  },
  {
   "cell_type": "markdown",
   "id": "dd1c6987",
   "metadata": {},
   "source": [
    "Transform webds"
   ]
  },
  {
   "cell_type": "code",
   "execution_count": 1,
   "id": "139927b7",
   "metadata": {},
   "outputs": [],
   "source": [
    "import os\n",
    "import io\n",
    "import torch\n",
    "from tqdm import tqdm\n",
    "from pathlib import Path\n",
    "import webdataset as wds\n",
    "import torchaudio\n",
    "from torch.utils.data import DataLoader\n",
    "\n",
    "import torch\n",
    "from transformers import MimiModel, AutoFeatureExtractor"
   ]
  },
  {
   "cell_type": "code",
   "execution_count": null,
   "id": "0fb7d742",
   "metadata": {},
   "outputs": [],
   "source": [
    "tokenizer = MimiModel.from_pretrained(\"kyutai/mimi\")\n",
    "tokenizer.to('cuda:0')\n",
    "tokenizer.eval()\n",
    "n_codebooks = 8\n",
    "\n",
    "feature_extractor = AutoFeatureExtractor.from_pretrained(\"kyutai/mimi\")"
   ]
  },
  {
   "cell_type": "code",
   "execution_count": null,
   "id": "ceb3e486",
   "metadata": {},
   "outputs": [],
   "source": [
    "def tokenize(item):\n",
    "    byte_io = io.BytesIO(item['wav'])\n",
    "    audio, sr = torchaudio.load(byte_io)\n",
    "    audio = torchaudio.functional.resample(audio, orig_freq=sr, new_freq=24000)\n",
    "\n",
    "    encoder_outputs = tokenizer.encode(\n",
    "        audio.unsqueeze(0).to('cuda:0'),\n",
    "        None,\n",
    "        num_quantizers=n_codebooks\n",
    "    ).audio_codes.to(torch.int16).detach().cpu().numpy()\n",
    "\n",
    "    item['mimi.npy'] = encoder_outputs\n",
    "    item.pop('wav')\n",
    "\n",
    "    return item"
   ]
  },
  {
   "cell_type": "code",
   "execution_count": null,
   "id": "4d7447de",
   "metadata": {},
   "outputs": [],
   "source": [
    "dataset = wds.WebDataset(url, shardshuffle=False, cache_dir=cache_dir).decode().map(tokenize)\n",
    "dataloader = DataLoader(dataset, batch_size=None, num_workers=4)"
   ]
  },
  {
   "cell_type": "code",
   "execution_count": null,
   "id": "2776313d",
   "metadata": {},
   "outputs": [],
   "source": [
    "with wds.ShardWriter(f\"transform_out__%06d.tar\", maxsize=1e9) as sink:\n",
    "    for sample in tqdm(dataset, total=20978, desc='Tokenizing audio...'):\n",
    "        sink.write(sample)"
   ]
  },
  {
   "cell_type": "code",
   "execution_count": null,
   "id": "4a1928de",
   "metadata": {},
   "outputs": [],
   "source": [
    "transform_dataset = wds.WebDataset(\n",
    "    str(Path('./transform_out__{000000..000006}.tar').absolute()),\n",
    "    shardshuffle=False\n",
    ").decode()"
   ]
  },
  {
   "cell_type": "code",
   "execution_count": null,
   "id": "86b3d973",
   "metadata": {},
   "outputs": [],
   "source": [
    "total_len = 0\n",
    "total_fls = 0\n",
    "\n",
    "for elem in tqdm(transform_dataset):\n",
    "    total_fls += 1\n",
    "    total_len += elem['mimi.npy'].shape[-1]"
   ]
  }
 ],
 "metadata": {
  "kernelspec": {
   "display_name": "Python 3 (ipykernel)",
   "language": "python",
   "name": "python3"
  },
  "language_info": {
   "codemirror_mode": {
    "name": "ipython",
    "version": 3
   },
   "file_extension": ".py",
   "mimetype": "text/x-python",
   "name": "python",
   "nbconvert_exporter": "python",
   "pygments_lexer": "ipython3",
   "version": "3.11.6"
  }
 },
 "nbformat": 4,
 "nbformat_minor": 5
}
